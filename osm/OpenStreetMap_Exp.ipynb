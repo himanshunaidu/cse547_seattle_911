{
  "nbformat": 4,
  "nbformat_minor": 0,
  "metadata": {
    "colab": {
      "provenance": []
    },
    "kernelspec": {
      "name": "python3",
      "display_name": "Python 3"
    },
    "language_info": {
      "name": "python"
    }
  },
  "cells": [
    {
      "cell_type": "code",
      "execution_count": 1,
      "metadata": {
        "colab": {
          "base_uri": "https://localhost:8080/"
        },
        "id": "khEjcX4x8x7C",
        "outputId": "6bd93e42-1ebe-4e78-b82e-e1ea413b9f82"
      },
      "outputs": [
        {
          "output_type": "stream",
          "name": "stdout",
          "text": [
            "Collecting overpy\n",
            "  Downloading overpy-0.7-py3-none-any.whl (14 kB)\n",
            "Installing collected packages: overpy\n",
            "Successfully installed overpy-0.7\n"
          ]
        }
      ],
      "source": [
        "!pip install overpy"
      ]
    },
    {
      "cell_type": "code",
      "source": [
        "!pip install geopy"
      ],
      "metadata": {
        "colab": {
          "base_uri": "https://localhost:8080/"
        },
        "id": "QMhsyqmF2bSt",
        "outputId": "5b48e8f4-34f7-46d5-93b2-339f1369a1c8"
      },
      "execution_count": 63,
      "outputs": [
        {
          "output_type": "stream",
          "name": "stdout",
          "text": [
            "Requirement already satisfied: geopy in /usr/local/lib/python3.10/dist-packages (2.3.0)\n",
            "Requirement already satisfied: geographiclib<3,>=1.52 in /usr/local/lib/python3.10/dist-packages (from geopy) (2.0)\n"
          ]
        }
      ]
    },
    {
      "cell_type": "code",
      "source": [
        "from geopy.geocoders import Nominatim"
      ],
      "metadata": {
        "id": "cx25EsZm2yG_"
      },
      "execution_count": 64,
      "outputs": []
    },
    {
      "cell_type": "code",
      "source": [
        "import overpy\n",
        "\n",
        "# Create an Overpass API object\n",
        "api = overpy.Overpass()"
      ],
      "metadata": {
        "id": "yaRqVIYP80Xp"
      },
      "execution_count": 16,
      "outputs": []
    },
    {
      "cell_type": "code",
      "source": [
        "area_id_offset = 3600000000"
      ],
      "metadata": {
        "id": "R27WKJGN4Uxs"
      },
      "execution_count": 84,
      "outputs": []
    },
    {
      "cell_type": "code",
      "source": [
        "def find_poi(lat, lon, radius_meters=1609*5):\n",
        "    # Define the Overpass query\n",
        "    query = f\"\"\"\n",
        "    [out:json];\n",
        "    (\n",
        "      nwr[\"tourism\"=\"hotel\"](around:{radius_meters}, {lat}, {lon});\n",
        "    );\n",
        "    out body;\n",
        "    >;\n",
        "    out skel qt;\n",
        "    \"\"\"\n",
        "\n",
        "    # Execute the query\n",
        "    result = api.query(query)\n",
        "    print(type(result))\n",
        "\n",
        "    # Collect results\n",
        "    stores = []\n",
        "    for node in result.nodes:\n",
        "        stores.append({\n",
        "            \"id\": node.id,\n",
        "            \"name\": node.tags.get(\"name\", \"Unnamed\"),\n",
        "            \"latitude\": node.lat,\n",
        "            \"longitude\": node.lon\n",
        "        })\n",
        "\n",
        "    return stores"
      ],
      "metadata": {
        "id": "WBRiHAVCmK_3"
      },
      "execution_count": 37,
      "outputs": []
    },
    {
      "cell_type": "code",
      "source": [
        "# Example coordinates (Replace with your specific latitude and longitude)\n",
        "latitude = 47.659240\n",
        "longitude = -122.319470"
      ],
      "metadata": {
        "id": "r1fWq89YmCdm"
      },
      "execution_count": 21,
      "outputs": []
    },
    {
      "cell_type": "code",
      "source": [
        "# Find liquor stores within a radius\n",
        "stores = find_poi(latitude, longitude)"
      ],
      "metadata": {
        "colab": {
          "base_uri": "https://localhost:8080/"
        },
        "id": "CkDOiBQjmCbj",
        "outputId": "361448bb-a357-499f-d910-168220bc5f36"
      },
      "execution_count": 38,
      "outputs": [
        {
          "output_type": "stream",
          "name": "stdout",
          "text": [
            "<class 'overpy.Result'>\n"
          ]
        }
      ]
    },
    {
      "cell_type": "code",
      "source": [
        "# Print the results\n",
        "for store in stores:\n",
        "    print(f\"Id: {store['id']}, Name: {store['name']}, Latitude: {store['latitude']}, Longitude: {store['longitude']}\")"
      ],
      "metadata": {
        "id": "YrDrRqD0mOi9"
      },
      "execution_count": null,
      "outputs": []
    },
    {
      "cell_type": "code",
      "source": [
        "store0 = stores[0]"
      ],
      "metadata": {
        "id": "gX4UaQnjmOgg"
      },
      "execution_count": 24,
      "outputs": []
    },
    {
      "cell_type": "code",
      "source": [
        "def find_node(node_id):\n",
        "    # Define the Overpass query\n",
        "    query = f\"\"\"\n",
        "    [out:json];\n",
        "    node({node_id});\n",
        "    out body;\n",
        "    \"\"\"\n",
        "\n",
        "    # Execute the query\n",
        "    result = api.query(query)\n",
        "    print(type(result))\n",
        "\n",
        "    # Collect results\n",
        "    if len(result.nodes)==0: return None\n",
        "    node = result.nodes[0]\n",
        "\n",
        "    return node"
      ],
      "metadata": {
        "id": "kRqEx2ClmeS5"
      },
      "execution_count": 31,
      "outputs": []
    },
    {
      "cell_type": "code",
      "source": [
        "store0_node = find_node(store0['id'])"
      ],
      "metadata": {
        "colab": {
          "base_uri": "https://localhost:8080/"
        },
        "id": "nUtAaw_GmCZi",
        "outputId": "6daf667f-7d8f-4f63-8ce6-a2322586ec10"
      },
      "execution_count": 32,
      "outputs": [
        {
          "output_type": "stream",
          "name": "stdout",
          "text": [
            "<class 'overpy.Result'>\n"
          ]
        }
      ]
    },
    {
      "cell_type": "code",
      "source": [
        "store0_node"
      ],
      "metadata": {
        "colab": {
          "base_uri": "https://localhost:8080/"
        },
        "id": "wS46_Inw86nP",
        "outputId": "529a7572-e6df-4130-9a37-feaa8ac89b00"
      },
      "execution_count": 35,
      "outputs": [
        {
          "output_type": "execute_result",
          "data": {
            "text/plain": [
              "<overpy.Node id=97526535 lat=47.7216444 lon=-122.2952057>"
            ]
          },
          "metadata": {},
          "execution_count": 35
        }
      ]
    },
    {
      "cell_type": "code",
      "source": [
        "find_node(10593550408)"
      ],
      "metadata": {
        "colab": {
          "base_uri": "https://localhost:8080/"
        },
        "id": "LrvDnn-VnSUZ",
        "outputId": "7c7672dd-7e08-4a41-ffec-0a3f4151fc28"
      },
      "execution_count": 40,
      "outputs": [
        {
          "output_type": "stream",
          "name": "stdout",
          "text": [
            "<class 'overpy.Result'>\n"
          ]
        },
        {
          "output_type": "execute_result",
          "data": {
            "text/plain": [
              "<overpy.Node id=10593550408 lat=47.6261451 lon=-122.3468818>"
            ]
          },
          "metadata": {},
          "execution_count": 40
        }
      ]
    },
    {
      "cell_type": "code",
      "source": [],
      "metadata": {
        "id": "2W044RoynpUy"
      },
      "execution_count": null,
      "outputs": []
    },
    {
      "cell_type": "code",
      "source": [
        "city = \"Seattle, Washington\""
      ],
      "metadata": {
        "id": "LGBxJ6_8xLCV"
      },
      "execution_count": 79,
      "outputs": []
    },
    {
      "cell_type": "code",
      "source": [
        "def find_city_code(city):\n",
        "  # Geocoding request via Nominatim\n",
        "  geolocator = Nominatim(user_agent=\"city_compare\")\n",
        "  geo_results = geolocator.geocode(city, exactly_one=False, limit=3)\n",
        "\n",
        "  # print(geo_results)\n",
        "  city_node = None\n",
        "\n",
        "  for result in geo_results:\n",
        "    # print(result.address, result.raw.get(\"osm_type\"))\n",
        "    if result.raw.get(\"osm_type\") == \"relation\":\n",
        "        city_node = result\n",
        "        break\n",
        "  # print(city_node.raw.get(\"osm_id\"))\n",
        "\n",
        "  return city_node.raw.get(\"osm_id\")"
      ],
      "metadata": {
        "id": "qnrBQ1qE2Usy"
      },
      "execution_count": 91,
      "outputs": []
    },
    {
      "cell_type": "code",
      "source": [
        "find_city_code(city)"
      ],
      "metadata": {
        "colab": {
          "base_uri": "https://localhost:8080/"
        },
        "id": "Qab_OY583GqZ",
        "outputId": "40412c39-1f0e-406a-e30e-76634d740ef7"
      },
      "execution_count": 92,
      "outputs": [
        {
          "output_type": "execute_result",
          "data": {
            "text/plain": [
              "237385"
            ]
          },
          "metadata": {},
          "execution_count": 92
        }
      ]
    },
    {
      "cell_type": "code",
      "source": [
        "# https://stackoverflow.com/questions/52236655/how-to-get-a-geocodearea-xxx-query-to-work-in-python-using-overpy\n",
        "def find_schools_in_loc(loc_id):\n",
        "  area_id = loc_id + area_id_offset\n",
        "\n",
        "  query = f\"\"\"\n",
        "  [out:json][timeout:25];\n",
        "  area({area_id})->.searchArea;\n",
        "  nwr[\"amenity\"=\"school\"](area.searchArea);\n",
        "  out body;\n",
        "  \"\"\"\n",
        "  # print(query)\n",
        "\n",
        "  # Execute the query\n",
        "  result = api.query(query)\n",
        "\n",
        "  # Collect results\n",
        "  schools = []\n",
        "  for node in result.nodes:\n",
        "      schools.append({\n",
        "          \"id\": node.id,\n",
        "          \"name\": node.tags.get(\"name\", \"Unnamed\"),\n",
        "          # \"latitude\": node.lat,\n",
        "          # \"longitude\": node.lon\n",
        "      })\n",
        "\n",
        "  return schools"
      ],
      "metadata": {
        "id": "XhSwHPtHxLEX"
      },
      "execution_count": 93,
      "outputs": []
    },
    {
      "cell_type": "code",
      "source": [
        "city_code = find_city_code(city)\n",
        "find_schools_in_loc(city_code)"
      ],
      "metadata": {
        "colab": {
          "base_uri": "https://localhost:8080/"
        },
        "id": "rfFiJfkOxLAM",
        "outputId": "8ec5d5de-7249-46fa-f435-4d0d2499d700"
      },
      "execution_count": 94,
      "outputs": [
        {
          "output_type": "execute_result",
          "data": {
            "text/plain": [
              "[{'id': 356540545, 'name': 'Mapleleaf School'},\n",
              " {'id': 356540551, 'name': 'Hazel Wolf K-8'},\n",
              " {'id': 356541630, 'name': 'Epic Life Academy'},\n",
              " {'id': 356541632, 'name': 'Christ the King Elementary School'},\n",
              " {'id': 356541685, 'name': 'Assumption Saint Bridget School'},\n",
              " {'id': 356541772, 'name': 'Saint Edward Parish School'},\n",
              " {'id': 356543720, 'name': 'Learning Way School'},\n",
              " {'id': 356543721, 'name': 'Seattle Waldorf School - Main Campus'},\n",
              " {'id': 356543722, 'name': 'Concordia Lutheran School'},\n",
              " {'id': 356543729, 'name': 'Northwest Montessori School'},\n",
              " {'id': 356543786, 'name': 'Bjorn Lih Primary School'},\n",
              " {'id': 356543789, 'name': 'Northwest Childrens Academy'},\n",
              " {'id': 356543871, 'name': 'Dearborn Park International Elementary School'},\n",
              " {'id': 356543874, 'name': 'Happy Medium School'},\n",
              " {'id': 356543929, 'name': 'Hope Lutheran School'},\n",
              " {'id': 356543930, 'name': 'Calvary Luthern School'},\n",
              " {'id': 356543933, 'name': 'Westside School'},\n",
              " {'id': 356543934, 'name': 'West Seattle Montessori School'},\n",
              " {'id': 356548004, 'name': 'Saint Matthew School'},\n",
              " {'id': 356548027, 'name': 'John Stanford International School'},\n",
              " {'id': 356548263, 'name': 'John Muir Annex School'},\n",
              " {'id': 356551456, 'name': 'Career Link School'},\n",
              " {'id': 356551546, 'name': 'Hutch School'},\n",
              " {'id': 356551551, 'name': 'Interagency Alder Academy'},\n",
              " {'id': 356551687, 'name': 'Interagency Ryther Center'},\n",
              " {'id': 356552123, 'name': 'Discovery Montessori School'},\n",
              " {'id': 356552125, 'name': 'Perkins School'},\n",
              " {'id': 356552142, 'name': 'Matheia School'},\n",
              " {'id': 356552187, 'name': 'Dartmoor School'},\n",
              " {'id': 2048590953, 'name': 'Sponge School'},\n",
              " {'id': 2131716908, 'name': 'ALPS Language School'},\n",
              " {'id': 2143145312, 'name': 'Kapka Cooperative School'},\n",
              " {'id': 2158667215, 'name': 'Harvard Avenue School'},\n",
              " {'id': 2323857963, 'name': 'University Cooperative School'},\n",
              " {'id': 2327732148, 'name': 'Morningside Academy'},\n",
              " {'id': 2328650326, 'name': 'Young Child Academy'},\n",
              " {'id': 2494550792, 'name': 'The Center School'},\n",
              " {'id': 2669551506, 'name': 'Blue Ribbon Cooking'},\n",
              " {'id': 2778623189, 'name': 'The Exploration Academy'},\n",
              " {'id': 4004272642, 'name': 'United Indians of All Tribes'},\n",
              " {'id': 4518505568, 'name': 'Gage Academy of Art'},\n",
              " {'id': 4539170352, 'name': \"Vuu's Beauty School\"},\n",
              " {'id': 4585882329, 'name': 'Mingyuan Evergreen Chinese School'},\n",
              " {'id': 5678219221, 'name': 'New Discovery School'},\n",
              " {'id': 6737269588, 'name': 'Girls Rock Math'},\n",
              " {'id': 6737269689, 'name': 'Puget Sound Community School'},\n",
              " {'id': 6780355216, 'name': 'St. Nicholas School'},\n",
              " {'id': 8433406352, 'name': 'Seattle Waldorf High School'},\n",
              " {'id': 9797248018, 'name': 'The Music Factory'},\n",
              " {'id': 9837262623, 'name': 'Brightmont Academy'},\n",
              " {'id': 9885499755, 'name': 'Giddens School'},\n",
              " {'id': 9885499756, 'name': 'Lake Washington Girls Middle School'},\n",
              " {'id': 9989434174, 'name': 'Concordia Lutheran School'},\n",
              " {'id': 10805854907, 'name': 'The Amistad School'}]"
            ]
          },
          "metadata": {},
          "execution_count": 94
        }
      ]
    },
    {
      "cell_type": "code",
      "source": [],
      "metadata": {
        "id": "AUxGJ9Njx4bq"
      },
      "execution_count": 94,
      "outputs": []
    }
  ]
}