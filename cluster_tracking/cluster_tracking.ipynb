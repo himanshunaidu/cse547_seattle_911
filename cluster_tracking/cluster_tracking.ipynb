{
 "cells": [
  {
   "cell_type": "code",
   "execution_count": 1,
   "id": "58e666b3-a6f3-4778-b7d4-05cbef7d9896",
   "metadata": {},
   "outputs": [],
   "source": [
    "import numpy as np\n",
    "import pandas as pd\n",
    "import plotly.express as px\n",
    "import matplotlib.pyplot as plt\n",
    "import json"
   ]
  },
  {
   "cell_type": "code",
   "execution_count": 2,
   "id": "0e646b0e-c104-4d8e-8170-813ae32e56ff",
   "metadata": {},
   "outputs": [],
   "source": [
    "# To address false positive reporting in centers.py\n",
    "pd.options.mode.chained_assignment = None"
   ]
  },
  {
   "cell_type": "code",
   "execution_count": 3,
   "id": "a8e04356-ef68-4a69-9745-6cfc9c28f522",
   "metadata": {},
   "outputs": [],
   "source": [
    "from scipy.optimize import linear_sum_assignment\n",
    "\n",
    "import os\n",
    "import sys\n",
    "from center.centers import get_centroids, get_medoids, get_modes, get_std, centers_df_to_dict\n",
    "from match.hungarian import match_clusters, min_cluster_assignment\n",
    "from distance.emd import get_emd\n",
    "from redlining.redlining import get_holc_grade, holc_grade_counts_to_dict, get_all_redlining_value_counts, \\\n",
    "    run_chi_square_test, normalize_count_dict, grade_keys"
   ]
  },
  {
   "cell_type": "code",
   "execution_count": 4,
   "id": "2b054307-0665-4e62-bb23-208b89510c4d",
   "metadata": {},
   "outputs": [],
   "source": [
    "from clustering.distance.distances import haversine_np, meters_to_hav, RADIUS_OF_EARTH_AT_SPACE_NEEDLE"
   ]
  },
  {
   "cell_type": "code",
   "execution_count": 30,
   "id": "4fb77b0c-fec1-49f0-aaad-833231975968",
   "metadata": {},
   "outputs": [],
   "source": [
    "import statsmodels.api as sm"
   ]
  },
  {
   "cell_type": "code",
   "execution_count": 5,
   "id": "7435034c-3f01-4719-bca2-522f229f5c69",
   "metadata": {},
   "outputs": [],
   "source": [
    "import inspect\n",
    "lines = inspect.getsource(min_cluster_assignment)\n",
    "# print(lines)"
   ]
  },
  {
   "cell_type": "code",
   "execution_count": 6,
   "id": "1c0690f7-f900-4f3f-a2f4-73c225631782",
   "metadata": {},
   "outputs": [],
   "source": [
    "%load_ext autoreload"
   ]
  },
  {
   "cell_type": "code",
   "execution_count": 7,
   "id": "926eb027-544e-48eb-b133-4d044dcc6653",
   "metadata": {},
   "outputs": [],
   "source": [
    "%autoreload 2"
   ]
  },
  {
   "cell_type": "code",
   "execution_count": 8,
   "id": "ff0fd3be-067d-4260-8345-fd7cc66a8fc5",
   "metadata": {},
   "outputs": [],
   "source": [
    "%reload_ext autoreload"
   ]
  },
  {
   "cell_type": "code",
   "execution_count": 9,
   "id": "a8056059-bee6-4c81-87cd-818dbda73756",
   "metadata": {},
   "outputs": [],
   "source": [
    "## Helper Methods and Variables"
   ]
  },
  {
   "cell_type": "code",
   "execution_count": 10,
   "id": "e4f9b55d-c6f3-4eee-b301-d66622e69a65",
   "metadata": {},
   "outputs": [],
   "source": [
    "data_path = '../clustering/test.csv'"
   ]
  },
  {
   "cell_type": "code",
   "execution_count": 35,
   "id": "a608dd26-1c2f-4e27-986f-36b6fa24792f",
   "metadata": {},
   "outputs": [],
   "source": [
    "cluster_movement_path  = 'test_output/cluster_sector_movement2.csv'"
   ]
  },
  {
   "cell_type": "code",
   "execution_count": 12,
   "id": "744a5807-be7a-4ef9-bd0f-2eba66596ea8",
   "metadata": {},
   "outputs": [],
   "source": [
    "## Load the Data"
   ]
  },
  {
   "cell_type": "code",
   "execution_count": 13,
   "id": "427ffeb1-6522-445a-9135-e467f19a8dce",
   "metadata": {},
   "outputs": [],
   "source": [
    "df = pd.read_csv(data_path)"
   ]
  },
  {
   "cell_type": "code",
   "execution_count": 14,
   "id": "f55ac767-37d2-4d44-af72-1e08fd6fdb67",
   "metadata": {},
   "outputs": [],
   "source": [
    "df_filtered = df[df['cluster_labs']!=-1]"
   ]
  },
  {
   "cell_type": "code",
   "execution_count": 15,
   "id": "ef19e5ea-6bda-4214-b005-7f8162352592",
   "metadata": {},
   "outputs": [
    {
     "data": {
      "text/html": [
       "<div>\n",
       "<style scoped>\n",
       "    .dataframe tbody tr th:only-of-type {\n",
       "        vertical-align: middle;\n",
       "    }\n",
       "\n",
       "    .dataframe tbody tr th {\n",
       "        vertical-align: top;\n",
       "    }\n",
       "\n",
       "    .dataframe thead th {\n",
       "        text-align: right;\n",
       "    }\n",
       "</style>\n",
       "<table border=\"1\" class=\"dataframe\">\n",
       "  <thead>\n",
       "    <tr style=\"text-align: right;\">\n",
       "      <th></th>\n",
       "      <th>Unnamed: 0</th>\n",
       "      <th>Offense ID</th>\n",
       "      <th>Offense Start DateTime</th>\n",
       "      <th>Offense End DateTime</th>\n",
       "      <th>Group A B</th>\n",
       "      <th>Crime Against Category</th>\n",
       "      <th>Offense Parent Group</th>\n",
       "      <th>Offense</th>\n",
       "      <th>Offense Code</th>\n",
       "      <th>Precinct</th>\n",
       "      <th>...</th>\n",
       "      <th>100 Block Address</th>\n",
       "      <th>Longitude</th>\n",
       "      <th>Latitude</th>\n",
       "      <th>Year</th>\n",
       "      <th>Month</th>\n",
       "      <th>Day</th>\n",
       "      <th>Time</th>\n",
       "      <th>long_rad</th>\n",
       "      <th>lat_rad</th>\n",
       "      <th>cluster_labs</th>\n",
       "    </tr>\n",
       "  </thead>\n",
       "  <tbody>\n",
       "    <tr>\n",
       "      <th>0</th>\n",
       "      <td>267341</td>\n",
       "      <td>7697612406</td>\n",
       "      <td>2008-10-15 09:00:00</td>\n",
       "      <td>10/15/2013 09:00:00 AM</td>\n",
       "      <td>A</td>\n",
       "      <td>PROPERTY</td>\n",
       "      <td>EMBEZZLEMENT</td>\n",
       "      <td>Embezzlement</td>\n",
       "      <td>270</td>\n",
       "      <td>N</td>\n",
       "      <td>...</td>\n",
       "      <td>9XX BLOCK OF NE BOAT ST</td>\n",
       "      <td>-122.318116</td>\n",
       "      <td>47.653656</td>\n",
       "      <td>2008</td>\n",
       "      <td>10</td>\n",
       "      <td>2</td>\n",
       "      <td>09:00:00</td>\n",
       "      <td>-2.134854</td>\n",
       "      <td>0.831713</td>\n",
       "      <td>-1</td>\n",
       "    </tr>\n",
       "  </tbody>\n",
       "</table>\n",
       "<p>1 rows × 23 columns</p>\n",
       "</div>"
      ],
      "text/plain": [
       "   Unnamed: 0  Offense ID Offense Start DateTime    Offense End DateTime  \\\n",
       "0      267341  7697612406    2008-10-15 09:00:00  10/15/2013 09:00:00 AM   \n",
       "\n",
       "  Group A B Crime Against Category Offense Parent Group       Offense  \\\n",
       "0         A               PROPERTY         EMBEZZLEMENT  Embezzlement   \n",
       "\n",
       "  Offense Code Precinct  ...        100 Block Address   Longitude   Latitude  \\\n",
       "0          270        N  ...  9XX BLOCK OF NE BOAT ST -122.318116  47.653656   \n",
       "\n",
       "   Year  Month  Day      Time  long_rad   lat_rad cluster_labs  \n",
       "0  2008     10    2  09:00:00 -2.134854  0.831713           -1  \n",
       "\n",
       "[1 rows x 23 columns]"
      ]
     },
     "execution_count": 15,
     "metadata": {},
     "output_type": "execute_result"
    }
   ],
   "source": [
    "df.head(1)"
   ]
  },
  {
   "cell_type": "code",
   "execution_count": 16,
   "id": "93c066da-26ea-4464-b439-ca244a963165",
   "metadata": {},
   "outputs": [
    {
     "data": {
      "text/plain": [
       "Index(['Unnamed: 0', 'Offense ID', 'Offense Start DateTime',\n",
       "       'Offense End DateTime', 'Group A B', 'Crime Against Category',\n",
       "       'Offense Parent Group', 'Offense', 'Offense Code', 'Precinct', 'Sector',\n",
       "       'Beat', 'MCPP', '100 Block Address', 'Longitude', 'Latitude', 'Year',\n",
       "       'Month', 'Day', 'Time', 'long_rad', 'lat_rad', 'cluster_labs'],\n",
       "      dtype='object')"
      ]
     },
     "execution_count": 16,
     "metadata": {},
     "output_type": "execute_result"
    }
   ],
   "source": [
    "df.columns"
   ]
  },
  {
   "cell_type": "code",
   "execution_count": 17,
   "id": "719c3f1d-8e93-4672-bc0d-d697c19e3986",
   "metadata": {},
   "outputs": [
    {
     "data": {
      "text/plain": [
       "array(['U', 'B', 'E', 'M', 'K', 'D', 'Q', 'R', 'L', 'N', 'J', 'W', 'S',\n",
       "       'F', 'C', 'G', 'O'], dtype=object)"
      ]
     },
     "execution_count": 17,
     "metadata": {},
     "output_type": "execute_result"
    }
   ],
   "source": [
    "sectors = df['Sector'].unique()\n",
    "sectors"
   ]
  },
  {
   "cell_type": "code",
   "execution_count": 18,
   "id": "45fcb27b-e74a-4b78-99bb-b8c1c591e81a",
   "metadata": {},
   "outputs": [],
   "source": [
    "years = df['Year'].unique()\n",
    "years.sort()"
   ]
  },
  {
   "cell_type": "code",
   "execution_count": null,
   "id": "2b3858e4-d2f1-42c8-b431-3ab36d19f60f",
   "metadata": {},
   "outputs": [],
   "source": []
  },
  {
   "cell_type": "code",
   "execution_count": 36,
   "id": "97af4f5a-dc2d-4e7d-a603-f2a0903c4875",
   "metadata": {},
   "outputs": [],
   "source": [
    "## Calculate Cluster Movements"
   ]
  },
  {
   "cell_type": "code",
   "execution_count": 18,
   "id": "52af51af-eb33-4eac-86b5-11f82fcc7f25",
   "metadata": {},
   "outputs": [],
   "source": [
    "def get_cluster_movement(df: pd.DataFrame, years: np.ndarray):\n",
    "    distances = {}\n",
    "    for i in range(1, len(years)-1):\n",
    "        year1 = years[i]\n",
    "        year2 = years[i+1]\n",
    "        df1 = df[df['Year'] == year1]\n",
    "        df2 = df[df['Year'] == year2]\n",
    "\n",
    "        cluster1_ind, cluster2_ind, row_ind, col_ind = match_clusters(df1, df2)\n",
    "        ind1_cluster1 = {v: k for k, v in cluster1_ind.items()}\n",
    "        ind2_cluster2 = {v: k for k, v in cluster2_ind.items()}\n",
    "        cluster1_no_match = set(cluster1_ind.keys()).difference(set(ind1_cluster1[i] for i in row_ind))\n",
    "        cluster2_no_match = set(cluster2_ind.keys()).difference(set(ind2_cluster2[j] for j in col_ind))\n",
    "\n",
    "        distance = 0\n",
    "        count = 0\n",
    "        for row, col in zip(row_ind, col_ind):\n",
    "            distance += get_emd(df1[df1['cluster_labs']==ind1_cluster1[row]], df2[df2['cluster_labs']==ind2_cluster2[col]])\n",
    "            count += 1\n",
    "        for c1 in cluster1_no_match:\n",
    "            distance += get_emd(df1[df1['cluster_labs']==c1], df2[df2['cluster_labs']==-1])\n",
    "            count += 1\n",
    "        for c2 in cluster2_no_match:\n",
    "            distance += get_emd(df1[df1['cluster_labs']==-1], df2[df2['cluster_labs']==c2])\n",
    "            count += 1\n",
    "        # print(f'Years: {year1} and {year2}. Distance: {distance/count}')\n",
    "        distances[(year1, year2)] = distance/count\n",
    "    return distances"
   ]
  },
  {
   "cell_type": "code",
   "execution_count": 19,
   "id": "2a265c39-21a5-4f07-8839-47089b3fdfe0",
   "metadata": {},
   "outputs": [],
   "source": [
    "def get_sectors_cluster_movement(df: pd.DataFrame, sectors: np.ndarray, years: np.ndarray):\n",
    "    sector_movement = {}\n",
    "    for sector in sectors:\n",
    "        print(f'Sector {sector} movement calculation initiated')\n",
    "        sector_movement[sector] = get_cluster_movement(df[df['Sector']==sector], years)\n",
    "        print(f'Sector {sector} movement calculation completed')\n",
    "    return sector_movement"
   ]
  },
  {
   "cell_type": "code",
   "execution_count": 20,
   "id": "14954e0b-a3a8-4061-8ee1-476bd5afa36f",
   "metadata": {},
   "outputs": [],
   "source": [
    "# get_cluster_movement(df[df['Sector']=='B'], years)"
   ]
  },
  {
   "cell_type": "code",
   "execution_count": 27,
   "id": "caf22da0-4282-4483-9650-dc0e92b51ca1",
   "metadata": {},
   "outputs": [],
   "source": [
    "# sector_movement = get_sectors_cluster_movement(df, sectors, years)"
   ]
  },
  {
   "cell_type": "code",
   "execution_count": 29,
   "id": "9808d554-6668-480a-92c8-6c552b109df4",
   "metadata": {},
   "outputs": [],
   "source": [
    "# sector_movement"
   ]
  },
  {
   "cell_type": "code",
   "execution_count": 30,
   "id": "9810e2f7-bee9-4fa4-96f1-4aa608a042e5",
   "metadata": {},
   "outputs": [],
   "source": [
    "# sector_movement_df = pd.DataFrame(columns=['Sector', 'Year1', 'Year2', 'Movement'])"
   ]
  },
  {
   "cell_type": "code",
   "execution_count": 31,
   "id": "d72f884a-dd59-483d-8921-b266c52c99ce",
   "metadata": {},
   "outputs": [],
   "source": [
    "# for sector in sector_movement.keys():\n",
    "#     movement = sector_movement[sector]\n",
    "#     for window in movement.keys():\n",
    "#         sector_movement_df.loc[len(sector_movement_df)] = [sector, window[0], window[1], movement[window]]"
   ]
  },
  {
   "cell_type": "code",
   "execution_count": 32,
   "id": "569e4851-abc9-4d01-8e36-3b068c6a43df",
   "metadata": {},
   "outputs": [],
   "source": [
    "# sector_movement_df"
   ]
  },
  {
   "cell_type": "code",
   "execution_count": 33,
   "id": "490d3a42-9b6e-44ad-a16d-a6c25d92b6bc",
   "metadata": {},
   "outputs": [],
   "source": [
    "# sector_movement_df.to_csv('test_output/cluster_sector_movement2.csv')"
   ]
  },
  {
   "cell_type": "code",
   "execution_count": 37,
   "id": "2bd22c2b-99ce-4a92-8ee8-8f450b5d7e5f",
   "metadata": {},
   "outputs": [],
   "source": [
    "## Run test on Redlining and associate with Cluster Movement"
   ]
  },
  {
   "cell_type": "code",
   "execution_count": 109,
   "id": "03528f33-fd0c-4408-83cf-a9031a93610a",
   "metadata": {},
   "outputs": [],
   "source": [
    "all_holc_value_counts = holc_grade_counts_to_dict(pd.read_csv('redlining/all_redlining_value_counts.csv', index_col='grade')['count'])"
   ]
  },
  {
   "cell_type": "code",
   "execution_count": 110,
   "id": "7396008b-fdd0-4206-ba44-50afeecc9f5a",
   "metadata": {},
   "outputs": [
    {
     "data": {
      "text/plain": [
       "defaultdict(int,\n",
       "            {'None': 523732,\n",
       "             'B': 194429,\n",
       "             'C': 172657,\n",
       "             'D': 142867,\n",
       "             'A': 10280})"
      ]
     },
     "execution_count": 110,
     "metadata": {},
     "output_type": "execute_result"
    }
   ],
   "source": [
    "all_holc_value_counts"
   ]
  },
  {
   "cell_type": "code",
   "execution_count": 125,
   "id": "2bf1cd32-6968-41c5-b245-bc45b3c9fe2f",
   "metadata": {},
   "outputs": [],
   "source": [
    "from scipy.stats import chisquare\n",
    "def run_chi_square_test2(holc_counts_dict1, holc_counts_dict2):\n",
    "    observed = [holc_counts_dict1[grade] for grade in grade_keys if grade!='None']\n",
    "    expected = [holc_counts_dict2[grade] for grade in grade_keys if grade!='None']\n",
    "    chi2, p = chisquare(observed, expected)\n",
    "    return chi2, p"
   ]
  },
  {
   "cell_type": "code",
   "execution_count": 129,
   "id": "8240c267-b147-4ff0-b89a-965178775751",
   "metadata": {},
   "outputs": [],
   "source": [
    "def test_redlining_by_sector(df, sectors, all_counts):\n",
    "    for sector in sectors:\n",
    "        holc_df0 = get_holc_grade(df[df['Sector']==sector], redlining_data_path='redlining/redlining_seattle.json')\n",
    "        holc_counts = holc_df0['grade'].value_counts(dropna=False)\n",
    "        holc_counts_dict = holc_grade_counts_to_dict(holc_counts)\n",
    "        all_counts_dict = all_counts\n",
    "        if (holc_counts_dict.get('None') is not None): del holc_counts_dict['None']\n",
    "        if (all_counts_dict.get('None') is not None): del all_counts_dict['None']\n",
    "        holc_counts_dict = normalize_count_dict(holc_counts_dict)\n",
    "        all_counts_dict = normalize_count_dict(all_counts_dict)\n",
    "        print(f'Starting Sector {sector}')\n",
    "        print(holc_counts_dict, '\\n', all_counts_dict)\n",
    "        chi2, p = run_chi_square_test2(holc_counts_dict, all_counts_dict)\n",
    "        print(f'Sector {sector}: {chi2} {p}\\n')"
   ]
  },
  {
   "cell_type": "code",
   "execution_count": 130,
   "id": "80924555-d5a3-42ab-9dd7-4aa061549a0d",
   "metadata": {},
   "outputs": [
    {
     "name": "stdout",
     "output_type": "stream",
     "text": [
      "Starting Sector U\n",
      "{'B': 92.33719300833395, 'C': 7.32354893428719, 'A': 0.30238218157681246, 'D': 0.0368758758020503} \n",
      " {'B': 37.37344612894607, 'C': 33.188398275388145, 'D': 27.46211793561731, 'A': 1.9760376600484784}\n",
      "Sector U: 129.7964715769144 5.983205864080834e-28\n",
      "\n",
      "Starting Sector B\n",
      "{'B': 62.93729372937294, 'C': 31.2013201320132, 'D': 5.8283828382838285, 'A': 0.033003300330033} \n",
      " {'B': 37.37344612894607, 'C': 33.188398275388145, 'D': 27.46211793561731, 'A': 1.9760376600484784}\n",
      "Sector B: 36.55783711568133 5.7072050754800594e-08\n",
      "\n",
      "Starting Sector E\n",
      "{'D': 51.75831956573047, 'C': 48.182676421996696, 'A': 0.029502006136417278, 'B': 0.029502006136417278} \n",
      " {'B': 37.37344612894607, 'C': 33.188398275388145, 'D': 27.46211793561731, 'A': 1.9760376600484784}\n",
      "Sector E: 67.50150762805785 1.4626057444261168e-14\n",
      "\n",
      "Starting Sector M\n",
      "{'A': 25.0, 'B': 25.0, 'C': 25.0, 'D': 25.0} \n",
      " {'B': 37.37344612894607, 'C': 33.188398275388145, 'D': 27.46211793561731, 'A': 1.9760376600484784}\n",
      "Sector M: 274.6031271769343 3.1156908805207833e-59\n",
      "\n",
      "Starting Sector K\n",
      "{'D': 99.67348715716152, 'A': 0.108837614279495, 'B': 0.108837614279495, 'C': 0.108837614279495} \n",
      " {'B': 37.37344612894607, 'C': 33.188398275388145, 'D': 27.46211793561731, 'A': 1.9760376600484784}\n",
      "Sector K: 261.7706105828306 1.8611625949419347e-56\n",
      "\n",
      "Starting Sector D\n",
      "{'B': 61.55117991883361, 'C': 22.98211333233128, 'D': 15.39155268300015, 'A': 0.07515406583496168} \n",
      " {'B': 37.37344612894607, 'C': 33.188398275388145, 'D': 27.46211793561731, 'A': 1.9760376600484784}\n",
      "Sector D: 25.913846779869075 9.94185693444909e-06\n",
      "\n",
      "Starting Sector Q\n",
      "{'C': 66.67824275047751, 'B': 31.463795797881577, 'A': 1.8145511373502343, 'D': 0.04341031429067546} \n",
      " {'B': 37.37344612894607, 'C': 33.188398275388145, 'D': 27.46211793561731, 'A': 1.9760376600484784}\n",
      "Sector Q: 62.1170510390601 2.0740980089626686e-13\n",
      "\n",
      "Starting Sector R\n",
      "{'C': 64.76425723695614, 'D': 20.064135898769283, 'B': 14.933263997226556, 'A': 0.23834286704801524} \n",
      " {'B': 37.37344612894607, 'C': 33.188398275388145, 'D': 27.46211793561731, 'A': 1.9760376600484784}\n",
      "Sector R: 47.03648589514883 3.4140477531496484e-10\n",
      "\n",
      "Starting Sector L\n",
      "{'B': 80.0, 'A': 6.666666666666667, 'C': 6.666666666666667, 'D': 6.666666666666667} \n",
      " {'B': 37.37344612894607, 'C': 33.188398275388145, 'D': 27.46211793561731, 'A': 1.9760376600484784}\n",
      "Sector L: 96.69382385508668 7.984838121956068e-21\n",
      "\n",
      "Starting Sector N\n",
      "{'B': 25.0, 'A': 25.0, 'C': 25.0, 'D': 25.0} \n",
      " {'B': 37.37344612894607, 'C': 33.188398275388145, 'D': 27.46211793561731, 'A': 1.9760376600484784}\n",
      "Sector N: 274.6031271769343 3.1156908805207833e-59\n",
      "\n",
      "Starting Sector J\n",
      "{'B': 85.09695753928452, 'C': 14.669007021063189, 'A': 0.19224339685723837, 'D': 0.041792042795051824} \n",
      " {'B': 37.37344612894607, 'C': 33.188398275388145, 'D': 27.46211793561731, 'A': 1.9760376600484784}\n",
      "Sector J: 100.26270522194326 1.3646098791359857e-21\n",
      "\n",
      "Starting Sector W\n",
      "{'B': 94.04562887206215, 'D': 3.2746582751499655, 'C': 2.6502114268856327, 'A': 0.02950142590225194} \n",
      " {'B': 37.37344612894607, 'C': 33.188398275388145, 'D': 27.46211793561731, 'A': 1.9760376600484784}\n",
      "Sector W: 137.25667662979512 1.4754632585753474e-29\n",
      "\n",
      "Starting Sector S\n",
      "{'C': 98.29269870012287, 'B': 1.6426307960939015, 'A': 0.03233525189161224, 'D': 0.03233525189161224} \n",
      " {'B': 37.37344612894607, 'C': 33.188398275388145, 'D': 27.46211793561731, 'A': 1.9760376600484784}\n",
      "Sector S: 191.18216105539634 3.390306943065283e-41\n",
      "\n",
      "Starting Sector F\n",
      "{'D': 90.3700105969622, 'C': 7.431119745672907, 'B': 2.1767926527728716, 'A': 0.022077004592016954} \n",
      " {'B': 37.37344612894607, 'C': 33.188398275388145, 'D': 27.46211793561731, 'A': 1.9760376600484784}\n",
      "Sector F: 199.1728864499086 6.366147642111086e-43\n",
      "\n",
      "Starting Sector C\n",
      "{'D': 36.253362680361946, 'B': 31.371973587674248, 'C': 26.27537295182196, 'A': 6.099290780141844} \n",
      " {'B': 37.37344612894607, 'C': 33.188398275388145, 'D': 27.46211793561731, 'A': 1.9760376600484784}\n",
      "Sector C: 13.821648801054579 0.0031582502748446835\n",
      "\n",
      "Starting Sector G\n",
      "{'D': 98.7452449894964, 'B': 1.0503605291546017, 'C': 0.17600635893941974, 'A': 0.02838812240958383} \n",
      " {'B': 37.37344612894607, 'C': 33.188398275388145, 'D': 27.46211793561731, 'A': 1.9760376600484784}\n",
      "Sector G: 255.08808682205242 5.191627500044747e-55\n",
      "\n",
      "Starting Sector O\n",
      "{'D': 98.45679012345678, 'A': 0.51440329218107, 'B': 0.51440329218107, 'C': 0.51440329218107} \n",
      " {'B': 37.37344612894607, 'C': 33.188398275388145, 'D': 27.46211793561731, 'A': 1.9760376600484784}\n",
      "Sector O: 253.13483038538251 1.3733828502126133e-54\n",
      "\n"
     ]
    }
   ],
   "source": [
    "test_redlining_by_sector(df_filtered, sectors, all_holc_value_counts)"
   ]
  },
  {
   "cell_type": "code",
   "execution_count": 138,
   "id": "7c83c9df-8ce8-4b0d-9888-ed3839e9eb03",
   "metadata": {},
   "outputs": [
    {
     "name": "stdout",
     "output_type": "stream",
     "text": [
      "Starting Sector U\n",
      "{'B': 93.09182813816344, 'C': 5.8972198820556025, 'A': 0.5897219882055602, 'D': 0.42122999157540014} \n",
      " {'B': 37.37344612894607, 'C': 33.188398275388145, 'D': 27.46211793561731, 'A': 1.9760376600484784}\n",
      "Sector U: 133.10855607061484 1.15641592390224e-28\n",
      "\n",
      "Starting Sector B\n",
      "{'B': 73.22557976106816, 'C': 20.379479971890373, 'D': 6.043569922698524, 'A': 0.35137034434293746} \n",
      " {'B': 37.37344612894607, 'C': 33.188398275388145, 'D': 27.46211793561731, 'A': 1.9760376600484784}\n",
      "Sector B: 57.377052256875494 2.1351141040560273e-12\n",
      "\n",
      "Starting Sector E\n",
      "{'C': 61.13615870153291, 'D': 37.962128043282235, 'A': 0.4508566275924256, 'B': 0.4508566275924256} \n",
      " {'B': 37.37344612894607, 'C': 33.188398275388145, 'D': 27.46211793561731, 'A': 1.9760376600484784}\n",
      "Sector E: 65.2036427003047 4.537311491748417e-14\n",
      "\n",
      "Starting Sector M\n",
      "{'A': 25.0, 'B': 25.0, 'C': 25.0, 'D': 25.0} \n",
      " {'B': 37.37344612894607, 'C': 33.188398275388145, 'D': 27.46211793561731, 'A': 1.9760376600484784}\n",
      "Sector M: 274.6031271769343 3.1156908805207833e-59\n",
      "\n",
      "Starting Sector K\n",
      "{'A': 25.0, 'B': 25.0, 'C': 25.0, 'D': 25.0} \n",
      " {'B': 37.37344612894607, 'C': 33.188398275388145, 'D': 27.46211793561731, 'A': 1.9760376600484784}\n",
      "Sector K: 274.6031271769343 3.1156908805207833e-59\n",
      "\n",
      "Starting Sector D\n",
      "{'B': 59.49579831932773, 'C': 26.89075630252101, 'D': 12.77310924369748, 'A': 0.8403361344537815} \n",
      " {'B': 37.37344612894607, 'C': 33.188398275388145, 'D': 27.46211793561731, 'A': 1.9760376600484784}\n",
      "Sector D: 22.79944695633839 4.446253253754897e-05\n",
      "\n",
      "Starting Sector Q\n",
      "{'C': 79.33333333333333, 'B': 17.733333333333334, 'A': 2.2666666666666666, 'D': 0.6666666666666666} \n",
      " {'B': 37.37344612894607, 'C': 33.188398275388145, 'D': 27.46211793561731, 'A': 1.9760376600484784}\n",
      "Sector Q: 100.66840560755064 1.1162763437058585e-21\n",
      "\n",
      "Starting Sector R\n",
      "{'C': 66.30859375, 'D': 22.021484375, 'B': 11.42578125, 'A': 0.244140625} \n",
      " {'B': 37.37344612894607, 'C': 33.188398275388145, 'D': 27.46211793561731, 'A': 1.9760376600484784}\n",
      "Sector R: 53.662884035539754 1.3240607287188918e-11\n",
      "\n",
      "Starting Sector L\n",
      "{'B': 79.16666666666667, 'A': 6.944444444444445, 'C': 6.944444444444445, 'D': 6.944444444444445} \n",
      " {'B': 37.37344612894607, 'C': 33.188398275388145, 'D': 27.46211793561731, 'A': 1.9760376600484784}\n",
      "Sector L: 95.30976294287096 1.5839582244013532e-20\n",
      "\n",
      "Starting Sector N\n",
      "{'A': 25.0, 'B': 25.0, 'C': 25.0, 'D': 25.0} \n",
      " {'B': 37.37344612894607, 'C': 33.188398275388145, 'D': 27.46211793561731, 'A': 1.9760376600484784}\n",
      "Sector N: 274.6031271769343 3.1156908805207833e-59\n",
      "\n",
      "Starting Sector J\n",
      "{'B': 81.31443298969072, 'C': 17.396907216494846, 'A': 0.6443298969072165, 'D': 0.6443298969072165} \n",
      " {'B': 37.37344612894607, 'C': 33.188398275388145, 'D': 27.46211793561731, 'A': 1.9760376600484784}\n",
      "Sector J: 86.26248227427276 1.3904034150457144e-18\n",
      "\n",
      "Starting Sector W\n",
      "{'B': 91.83544303797468, 'C': 4.810126582278481, 'D': 3.037974683544304, 'A': 0.31645569620253167} \n",
      " {'B': 37.37344612894607, 'C': 33.188398275388145, 'D': 27.46211793561731, 'A': 1.9760376600484784}\n",
      "Sector W: 126.74542189529645 2.718781996044745e-27\n",
      "\n",
      "Starting Sector S\n",
      "{'C': 98.36423118865866, 'A': 0.5452562704471101, 'B': 0.5452562704471101, 'D': 0.5452562704471101} \n",
      " {'B': 37.37344612894607, 'C': 33.188398275388145, 'D': 27.46211793561731, 'A': 1.9760376600484784}\n",
      "Sector S: 191.7024967932534 2.617180521008524e-41\n",
      "\n",
      "Starting Sector F\n",
      "{'D': 87.60195758564437, 'C': 7.911908646003263, 'B': 4.078303425774878, 'A': 0.4078303425774878} \n",
      " {'B': 37.37344612894607, 'C': 33.188398275388145, 'D': 27.46211793561731, 'A': 1.9760376600484784}\n",
      "Sector F: 181.85858934178478 3.500134621668064e-39\n",
      "\n",
      "Starting Sector C\n",
      "{'D': 36.20574482297929, 'B': 30.260521042084168, 'C': 27.92251169004676, 'A': 5.61122244488978} \n",
      " {'B': 37.37344612894607, 'C': 33.188398275388145, 'D': 27.46211793561731, 'A': 1.9760376600484784}\n",
      "Sector C: 11.66053249715834 0.008641289654833777\n",
      "\n",
      "Starting Sector G\n",
      "{'D': 98.76543209876543, 'A': 0.411522633744856, 'B': 0.411522633744856, 'C': 0.411522633744856} \n",
      " {'B': 37.37344612894607, 'C': 33.188398275388145, 'D': 27.46211793561731, 'A': 1.9760376600484784}\n",
      "Sector G: 255.2977500397056 4.676842647821007e-55\n",
      "\n",
      "Starting Sector O\n",
      "{'D': 80.51948051948052, 'A': 6.4935064935064934, 'B': 6.4935064935064934, 'C': 6.4935064935064934} \n",
      " {'B': 37.37344612894607, 'C': 33.188398275388145, 'D': 27.46211793561731, 'A': 1.9760376600484784}\n",
      "Sector O: 159.82192197823923 2.002447526904453e-34\n",
      "\n"
     ]
    }
   ],
   "source": [
    "test_redlining_by_sector(df_filtered[df_filtered['Year']==2022], sectors, all_holc_value_counts)"
   ]
  },
  {
   "cell_type": "code",
   "execution_count": 137,
   "id": "8d4b1b6a-cf56-4165-ab3d-13b94241e858",
   "metadata": {},
   "outputs": [],
   "source": [
    "# NOTE!! The above test needs to be run on the clustering that uses all the data points in a sector (not just a year)"
   ]
  },
  {
   "cell_type": "code",
   "execution_count": 132,
   "id": "a123d69c-f48e-450b-83be-3c6aba540d62",
   "metadata": {},
   "outputs": [],
   "source": [
    "## Run a linear regression based redlining test"
   ]
  },
  {
   "cell_type": "code",
   "execution_count": 19,
   "id": "c4248d55-7841-4c39-ae2e-36a85a93614b",
   "metadata": {},
   "outputs": [],
   "source": [
    "# for grade in grade_keys:\n",
    "#     sector_movement_df[grade] = np.nan"
   ]
  },
  {
   "cell_type": "code",
   "execution_count": 20,
   "id": "632c2ee9-165f-4b1f-8a05-f3951de9d144",
   "metadata": {},
   "outputs": [],
   "source": [
    "# sector_movement_df.head()"
   ]
  },
  {
   "cell_type": "code",
   "execution_count": 21,
   "id": "5b537a14-7c70-4058-8cb1-19a54993028f",
   "metadata": {},
   "outputs": [],
   "source": [
    "# sector_movement_avg_df = sector_movement_df.groupby(['Sector']).agg({'Movement': 'mean'}).reset_index()"
   ]
  },
  {
   "cell_type": "code",
   "execution_count": 22,
   "id": "87156234-9345-42c9-9dd5-be20c070cad2",
   "metadata": {},
   "outputs": [],
   "source": [
    "# sector_movement_avg_df.head()"
   ]
  },
  {
   "cell_type": "code",
   "execution_count": 23,
   "id": "d11542a2-1263-4483-90f5-4530d4267166",
   "metadata": {},
   "outputs": [],
   "source": [
    "# for grade in grade_keys:\n",
    "#     sector_movement_avg_df[grade] = np.nan"
   ]
  },
  {
   "cell_type": "code",
   "execution_count": 24,
   "id": "3898d21f-eca1-4f2d-a201-e27ca8d9f6fe",
   "metadata": {},
   "outputs": [],
   "source": [
    "# for index, row in sector_movement_avg_df.iterrows():\n",
    "#     sector = row['Sector']\n",
    "#     holc_df0 = get_holc_grade(df[df['Sector']==sector], redlining_data_path='redlining/redlining_seattle.json')\n",
    "#     holc_counts = holc_df0['grade'].value_counts(dropna=False)\n",
    "#     holc_counts_dict = holc_grade_counts_to_dict(holc_counts)\n",
    "#     holc_counts_dict = normalize_count_dict(holc_counts_dict)\n",
    "#     for grade in grade_keys:\n",
    "#         sector_movement_avg_df.loc[index, grade] = holc_counts_dict[grade]\n",
    "#     print(f'Sector {sector} done')"
   ]
  },
  {
   "cell_type": "code",
   "execution_count": 26,
   "id": "6f612c4e-c119-4e52-895a-8e2b6cd2fd9d",
   "metadata": {},
   "outputs": [],
   "source": [
    "sector_movement_avg_df = pd.read_csv('test_output/sector_movement_avg_df.csv')"
   ]
  },
  {
   "cell_type": "code",
   "execution_count": 27,
   "id": "4ed0d18f-c005-4f9f-8bfb-3092eaae2a68",
   "metadata": {},
   "outputs": [
    {
     "data": {
      "text/html": [
       "<div>\n",
       "<style scoped>\n",
       "    .dataframe tbody tr th:only-of-type {\n",
       "        vertical-align: middle;\n",
       "    }\n",
       "\n",
       "    .dataframe tbody tr th {\n",
       "        vertical-align: top;\n",
       "    }\n",
       "\n",
       "    .dataframe thead th {\n",
       "        text-align: right;\n",
       "    }\n",
       "</style>\n",
       "<table border=\"1\" class=\"dataframe\">\n",
       "  <thead>\n",
       "    <tr style=\"text-align: right;\">\n",
       "      <th></th>\n",
       "      <th>Unnamed: 0</th>\n",
       "      <th>Sector</th>\n",
       "      <th>Movement</th>\n",
       "      <th>A</th>\n",
       "      <th>B</th>\n",
       "      <th>C</th>\n",
       "      <th>D</th>\n",
       "      <th>None</th>\n",
       "    </tr>\n",
       "  </thead>\n",
       "  <tbody>\n",
       "    <tr>\n",
       "      <th>0</th>\n",
       "      <td>0</td>\n",
       "      <td>B</td>\n",
       "      <td>1.833765e+05</td>\n",
       "      <td>0.006468</td>\n",
       "      <td>31.499567</td>\n",
       "      <td>23.897606</td>\n",
       "      <td>1.963549</td>\n",
       "      <td>42.632811</td>\n",
       "    </tr>\n",
       "    <tr>\n",
       "      <th>1</th>\n",
       "      <td>1</td>\n",
       "      <td>C</td>\n",
       "      <td>3.627068e+05</td>\n",
       "      <td>7.898366</td>\n",
       "      <td>30.157967</td>\n",
       "      <td>24.510009</td>\n",
       "      <td>32.483597</td>\n",
       "      <td>4.950061</td>\n",
       "    </tr>\n",
       "    <tr>\n",
       "      <th>2</th>\n",
       "      <td>2</td>\n",
       "      <td>D</td>\n",
       "      <td>1.077536e+06</td>\n",
       "      <td>0.007095</td>\n",
       "      <td>5.836443</td>\n",
       "      <td>3.849811</td>\n",
       "      <td>1.495651</td>\n",
       "      <td>88.811000</td>\n",
       "    </tr>\n",
       "    <tr>\n",
       "      <th>3</th>\n",
       "      <td>3</td>\n",
       "      <td>E</td>\n",
       "      <td>9.266812e+04</td>\n",
       "      <td>0.006776</td>\n",
       "      <td>0.006776</td>\n",
       "      <td>31.923457</td>\n",
       "      <td>29.698193</td>\n",
       "      <td>38.364797</td>\n",
       "    </tr>\n",
       "    <tr>\n",
       "      <th>4</th>\n",
       "      <td>4</td>\n",
       "      <td>F</td>\n",
       "      <td>7.567812e+04</td>\n",
       "      <td>0.009889</td>\n",
       "      <td>1.789988</td>\n",
       "      <td>7.929350</td>\n",
       "      <td>77.920845</td>\n",
       "      <td>12.349928</td>\n",
       "    </tr>\n",
       "    <tr>\n",
       "      <th>5</th>\n",
       "      <td>5</td>\n",
       "      <td>G</td>\n",
       "      <td>3.079861e+04</td>\n",
       "      <td>0.011420</td>\n",
       "      <td>7.799831</td>\n",
       "      <td>3.992417</td>\n",
       "      <td>84.190211</td>\n",
       "      <td>4.006121</td>\n",
       "    </tr>\n",
       "    <tr>\n",
       "      <th>6</th>\n",
       "      <td>6</td>\n",
       "      <td>J</td>\n",
       "      <td>1.281645e+05</td>\n",
       "      <td>0.412341</td>\n",
       "      <td>55.563867</td>\n",
       "      <td>4.486489</td>\n",
       "      <td>0.009123</td>\n",
       "      <td>39.528180</td>\n",
       "    </tr>\n",
       "    <tr>\n",
       "      <th>7</th>\n",
       "      <td>7</td>\n",
       "      <td>K</td>\n",
       "      <td>1.328122e+05</td>\n",
       "      <td>0.006944</td>\n",
       "      <td>0.006944</td>\n",
       "      <td>0.006944</td>\n",
       "      <td>7.870833</td>\n",
       "      <td>92.108333</td>\n",
       "    </tr>\n",
       "    <tr>\n",
       "      <th>8</th>\n",
       "      <td>8</td>\n",
       "      <td>L</td>\n",
       "      <td>2.319861e+05</td>\n",
       "      <td>0.007873</td>\n",
       "      <td>3.304939</td>\n",
       "      <td>0.007873</td>\n",
       "      <td>0.007873</td>\n",
       "      <td>96.671443</td>\n",
       "    </tr>\n",
       "    <tr>\n",
       "      <th>9</th>\n",
       "      <td>9</td>\n",
       "      <td>M</td>\n",
       "      <td>3.254848e+04</td>\n",
       "      <td>0.006894</td>\n",
       "      <td>0.006894</td>\n",
       "      <td>0.006894</td>\n",
       "      <td>0.006894</td>\n",
       "      <td>99.972424</td>\n",
       "    </tr>\n",
       "    <tr>\n",
       "      <th>10</th>\n",
       "      <td>10</td>\n",
       "      <td>N</td>\n",
       "      <td>1.693618e+05</td>\n",
       "      <td>0.008419</td>\n",
       "      <td>0.021889</td>\n",
       "      <td>0.008419</td>\n",
       "      <td>0.008419</td>\n",
       "      <td>99.952854</td>\n",
       "    </tr>\n",
       "    <tr>\n",
       "      <th>11</th>\n",
       "      <td>11</td>\n",
       "      <td>O</td>\n",
       "      <td>2.021145e+05</td>\n",
       "      <td>0.014914</td>\n",
       "      <td>0.014914</td>\n",
       "      <td>0.155104</td>\n",
       "      <td>4.143053</td>\n",
       "      <td>95.672016</td>\n",
       "    </tr>\n",
       "    <tr>\n",
       "      <th>12</th>\n",
       "      <td>12</td>\n",
       "      <td>Q</td>\n",
       "      <td>2.073357e+05</td>\n",
       "      <td>2.686246</td>\n",
       "      <td>24.307429</td>\n",
       "      <td>27.116045</td>\n",
       "      <td>0.196087</td>\n",
       "      <td>45.694193</td>\n",
       "    </tr>\n",
       "    <tr>\n",
       "      <th>13</th>\n",
       "      <td>13</td>\n",
       "      <td>R</td>\n",
       "      <td>1.285626e+05</td>\n",
       "      <td>2.259501</td>\n",
       "      <td>21.102855</td>\n",
       "      <td>53.062558</td>\n",
       "      <td>20.833903</td>\n",
       "      <td>2.741183</td>\n",
       "    </tr>\n",
       "    <tr>\n",
       "      <th>14</th>\n",
       "      <td>14</td>\n",
       "      <td>S</td>\n",
       "      <td>1.226013e+05</td>\n",
       "      <td>0.009679</td>\n",
       "      <td>2.412111</td>\n",
       "      <td>89.519127</td>\n",
       "      <td>3.474911</td>\n",
       "      <td>4.584172</td>\n",
       "    </tr>\n",
       "    <tr>\n",
       "      <th>15</th>\n",
       "      <td>15</td>\n",
       "      <td>U</td>\n",
       "      <td>6.821640e+04</td>\n",
       "      <td>2.291032</td>\n",
       "      <td>52.078462</td>\n",
       "      <td>5.119393</td>\n",
       "      <td>0.005905</td>\n",
       "      <td>40.505208</td>\n",
       "    </tr>\n",
       "    <tr>\n",
       "      <th>16</th>\n",
       "      <td>16</td>\n",
       "      <td>W</td>\n",
       "      <td>3.635464e+05</td>\n",
       "      <td>1.868953</td>\n",
       "      <td>71.315230</td>\n",
       "      <td>7.364043</td>\n",
       "      <td>7.103855</td>\n",
       "      <td>12.347918</td>\n",
       "    </tr>\n",
       "  </tbody>\n",
       "</table>\n",
       "</div>"
      ],
      "text/plain": [
       "    Unnamed: 0 Sector      Movement         A          B          C  \\\n",
       "0            0      B  1.833765e+05  0.006468  31.499567  23.897606   \n",
       "1            1      C  3.627068e+05  7.898366  30.157967  24.510009   \n",
       "2            2      D  1.077536e+06  0.007095   5.836443   3.849811   \n",
       "3            3      E  9.266812e+04  0.006776   0.006776  31.923457   \n",
       "4            4      F  7.567812e+04  0.009889   1.789988   7.929350   \n",
       "5            5      G  3.079861e+04  0.011420   7.799831   3.992417   \n",
       "6            6      J  1.281645e+05  0.412341  55.563867   4.486489   \n",
       "7            7      K  1.328122e+05  0.006944   0.006944   0.006944   \n",
       "8            8      L  2.319861e+05  0.007873   3.304939   0.007873   \n",
       "9            9      M  3.254848e+04  0.006894   0.006894   0.006894   \n",
       "10          10      N  1.693618e+05  0.008419   0.021889   0.008419   \n",
       "11          11      O  2.021145e+05  0.014914   0.014914   0.155104   \n",
       "12          12      Q  2.073357e+05  2.686246  24.307429  27.116045   \n",
       "13          13      R  1.285626e+05  2.259501  21.102855  53.062558   \n",
       "14          14      S  1.226013e+05  0.009679   2.412111  89.519127   \n",
       "15          15      U  6.821640e+04  2.291032  52.078462   5.119393   \n",
       "16          16      W  3.635464e+05  1.868953  71.315230   7.364043   \n",
       "\n",
       "            D       None  \n",
       "0    1.963549  42.632811  \n",
       "1   32.483597   4.950061  \n",
       "2    1.495651  88.811000  \n",
       "3   29.698193  38.364797  \n",
       "4   77.920845  12.349928  \n",
       "5   84.190211   4.006121  \n",
       "6    0.009123  39.528180  \n",
       "7    7.870833  92.108333  \n",
       "8    0.007873  96.671443  \n",
       "9    0.006894  99.972424  \n",
       "10   0.008419  99.952854  \n",
       "11   4.143053  95.672016  \n",
       "12   0.196087  45.694193  \n",
       "13  20.833903   2.741183  \n",
       "14   3.474911   4.584172  \n",
       "15   0.005905  40.505208  \n",
       "16   7.103855  12.347918  "
      ]
     },
     "execution_count": 27,
     "metadata": {},
     "output_type": "execute_result"
    }
   ],
   "source": [
    "sector_movement_avg_df"
   ]
  },
  {
   "cell_type": "code",
   "execution_count": 28,
   "id": "6d4fd2a9-4900-49ca-bfd9-e3ba4dc50a6b",
   "metadata": {},
   "outputs": [],
   "source": [
    "# sector_movement_avg_df.to_csv('test_output/sector_movement_avg_df.csv')"
   ]
  },
  {
   "cell_type": "code",
   "execution_count": 32,
   "id": "929b51b4-6069-42cc-8379-7a0460c6fdee",
   "metadata": {},
   "outputs": [],
   "source": [
    "results = sm.OLS(sector_movement_avg_df['Movement'], sm.add_constant(sector_movement_avg_df[['A', 'B', 'C', 'D']])).fit()"
   ]
  },
  {
   "cell_type": "code",
   "execution_count": 33,
   "id": "b7c6dbd3-0010-4d2f-9c44-ba85f7ab0ee8",
   "metadata": {},
   "outputs": [],
   "source": [
    "A = np.identity(len(results.params))"
   ]
  },
  {
   "cell_type": "code",
   "execution_count": 34,
   "id": "a00b4641-8f13-4470-82e0-3bd85487d551",
   "metadata": {},
   "outputs": [
    {
     "name": "stdout",
     "output_type": "stream",
     "text": [
      "<F test: F=2.4790421684635797, p=0.09174022438828049, df_denom=12, df_num=5>\n"
     ]
    }
   ],
   "source": [
    "print(results.f_test(A))"
   ]
  },
  {
   "cell_type": "code",
   "execution_count": null,
   "id": "89ff52f3-9ed4-4764-8519-c1184f68ab9d",
   "metadata": {},
   "outputs": [],
   "source": []
  }
 ],
 "metadata": {
  "kernelspec": {
   "display_name": "CSE547 Project",
   "language": "python",
   "name": "cse547_project"
  },
  "language_info": {
   "codemirror_mode": {
    "name": "ipython",
    "version": 3
   },
   "file_extension": ".py",
   "mimetype": "text/x-python",
   "name": "python",
   "nbconvert_exporter": "python",
   "pygments_lexer": "ipython3",
   "version": "3.12.3"
  }
 },
 "nbformat": 4,
 "nbformat_minor": 5
}
